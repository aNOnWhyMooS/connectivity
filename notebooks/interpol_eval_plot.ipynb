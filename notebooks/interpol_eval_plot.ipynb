{
  "nbformat": 4,
  "nbformat_minor": 0,
  "metadata": {
    "colab": {
      "name": "interpol_eval_plot.ipynb",
      "provenance": [],
      "collapsed_sections": [
        "-zfY9xKMYsOL",
        "nBLR7TvXY35V",
        "GWxDmsjPcbTx",
        "HrtZLFDDcZG5"
      ],
      "include_colab_link": true
    },
    "kernelspec": {
      "name": "python3",
      "display_name": "Python 3"
    },
    "language_info": {
      "name": "python"
    }
  },
  "cells": [
    {
      "cell_type": "markdown",
      "metadata": {
        "id": "view-in-github",
        "colab_type": "text"
      },
      "source": [
        "<a href=\"https://colab.research.google.com/github/aNOnWhyMooS/connectivity/blob/main/notebooks/interpol_eval_plot.ipynb\" target=\"_parent\"><img src=\"https://colab.research.google.com/assets/colab-badge.svg\" alt=\"Open In Colab\"/></a>"
      ]
    },
    {
      "cell_type": "markdown",
      "source": [
        "## Clone Repository and install requirements"
      ],
      "metadata": {
        "id": "OUOazA8uHEZ6"
      }
    },
    {
      "cell_type": "code",
      "execution_count": null,
      "metadata": {
        "id": "oV1AM6klYEZ4"
      },
      "outputs": [],
      "source": [
        "!git clone https://github.com/aNOnWhyMooS/connectivity"
      ]
    },
    {
      "cell_type": "code",
      "source": [
        "%%capture\n",
        "!pip install transformers datasets flax optax\n",
        "!pip install GitPython tabulate gpytorch"
      ],
      "metadata": {
        "id": "_3XOBlxeYPWk"
      },
      "execution_count": null,
      "outputs": []
    },
    {
      "cell_type": "code",
      "source": [
        "%cd /content/connectivity_gems/\n",
        "!git pull origin main"
      ],
      "metadata": {
        "id": "9aVw3AtZtOpf"
      },
      "execution_count": null,
      "outputs": []
    },
    {
      "cell_type": "code",
      "source": [
        "!python3 -m pip install -e src/\n",
        "!bash get_paws.sh"
      ],
      "metadata": {
        "id": "X6F2J6jEYiSg"
      },
      "execution_count": null,
      "outputs": []
    },
    {
      "cell_type": "markdown",
      "source": [
        "## Evaluation"
      ],
      "metadata": {
        "id": "-zfY9xKMYsOL"
      }
    },
    {
      "cell_type": "code",
      "source": [
        "%cd /content/connectivity_gems/evaluate/glue"
      ],
      "metadata": {
        "colab": {
          "base_uri": "https://localhost:8080/"
        },
        "id": "bWfR7Go2Yi33",
        "outputId": "f856a301-db6b-4aae-b981-7959dd66a8ce"
      },
      "execution_count": null,
      "outputs": [
        {
          "output_type": "stream",
          "name": "stdout",
          "text": [
            "/content/connectivity_gems/evaluate/glue\n"
          ]
        }
      ]
    },
    {
      "cell_type": "code",
      "source": [
        "!python3 eval_models.py --base_models_prefix connectivity/bert_ft_qqp- --dataset paws --split dev_and_test --models 0 1 2 3\\\n",
        "                       --write_file_prefix eval_qqp- --batch_size 128"
      ],
      "metadata": {
        "id": "kipoiFlyZDZb"
      },
      "execution_count": null,
      "outputs": []
    },
    {
      "cell_type": "markdown",
      "source": [
        "## Interpolate"
      ],
      "metadata": {
        "id": "nBLR7TvXY35V"
      }
    },
    {
      "cell_type": "code",
      "source": [
        "%cd /content/connectivity_gems/interpolate"
      ],
      "metadata": {
        "colab": {
          "base_uri": "https://localhost:8080/"
        },
        "id": "nK8e47oGYwn4",
        "outputId": "0e5a3f25-4676-45fe-98c9-644de1084986"
      },
      "execution_count": null,
      "outputs": [
        {
          "output_type": "stream",
          "name": "stdout",
          "text": [
            "/content/connectivity_gems/interpolate\n"
          ]
        }
      ]
    },
    {
      "cell_type": "markdown",
      "source": [
        "### 1-D"
      ],
      "metadata": {
        "id": "GWxDmsjPcbTx"
      }
    },
    {
      "cell_type": "code",
      "source": [
        "!python3 interpolate_1d.py --base_models_prefix connectivity/bert_ft_qqp- --dataset qqp --split validation\\\n",
        "                          --save_file interpol.pkl --suffix_pairs 7,22 7,98 22,98 1,7 1,98 --batch_size 128"
      ],
      "metadata": {
        "id": "iDMQWmGxcYrI"
      },
      "execution_count": null,
      "outputs": []
    },
    {
      "cell_type": "markdown",
      "source": [
        "### 2-D"
      ],
      "metadata": {
        "id": "HrtZLFDDcZG5"
      }
    },
    {
      "cell_type": "code",
      "source": [
        "!python3 interpolate_2d.py --base_models_prefix connectivity/feather_berts_ --anchor 99 --base1 44 --base2 87\\\n",
        "                          --dataset hans --split test --metric ECE "
      ],
      "metadata": {
        "id": "UPGLVtrVY7JB"
      },
      "execution_count": null,
      "outputs": []
    },
    {
      "cell_type": "markdown",
      "source": [
        "## Plot"
      ],
      "metadata": {
        "id": "FaMUZ2tlfVfR"
      }
    },
    {
      "cell_type": "markdown",
      "source": [
        "### Get Logs"
      ],
      "metadata": {
        "id": "vGuIut7Bfe3P"
      }
    },
    {
      "cell_type": "code",
      "source": [
        "%cd /content/connectivity_gems/"
      ],
      "metadata": {
        "colab": {
          "base_uri": "https://localhost:8080/"
        },
        "id": "XrXr4jbifVJL",
        "outputId": "69010b80-e199-4f54-eefd-aca36f3aae22"
      },
      "execution_count": null,
      "outputs": [
        {
          "output_type": "stream",
          "name": "stdout",
          "text": [
            "/content/connectivity_gems\n"
          ]
        }
      ]
    },
    {
      "cell_type": "code",
      "source": [
        "!mkdir logs/\n",
        "!python3 get_logs.py logs/\n",
        "!rm  logs/*.lock"
      ],
      "metadata": {
        "id": "OcnfYLpRbIFP"
      },
      "execution_count": null,
      "outputs": []
    },
    {
      "cell_type": "code",
      "source": [
        "!cd logs; git clone https://huggingface.co/connectivity/interpolation_logs/"
      ],
      "metadata": {
        "colab": {
          "base_uri": "https://localhost:8080/"
        },
        "id": "bjKs5NVvf68o",
        "outputId": "52a1a7ee-4d60-465f-f853-0c2376a4c28f"
      },
      "execution_count": null,
      "outputs": [
        {
          "output_type": "stream",
          "name": "stdout",
          "text": [
            "Cloning into 'interpolation_logs'...\n",
            "remote: Enumerating objects: 1971, done.\u001b[K\n",
            "remote: Counting objects: 100% (1971/1971), done.\u001b[K\n",
            "remote: Compressing objects: 100% (1669/1669), done.\u001b[K\n",
            "remote: Total 1971 (delta 857), reused 0 (delta 0), pack-reused 0\u001b[K\n",
            "Receiving objects: 100% (1971/1971), 11.43 MiB | 8.42 MiB/s, done.\n",
            "Resolving deltas: 100% (857/857), done.\n"
          ]
        }
      ]
    },
    {
      "cell_type": "markdown",
      "source": [
        "### 1-D interpolations"
      ],
      "metadata": {
        "id": "QDSIlHdqgde3"
      }
    },
    {
      "cell_type": "code",
      "source": [
        "%%bash\n",
        "cd /content/connectivity_gems/plot/\n",
        "sufs=\"\";for i in {0..99}; do sufs=\"$sufs $i\";done;\n",
        "python3 peak_valley_plains.py --perf_metric lexical_overlap_onlyNonEntailing --interpol_datasets MNLI\\\n",
        "                              --interpol_log_dirs ../logs/interpolation_logs/mnli_interpol@36813steps/\\\n",
        "                              --eval_mods_prefix ../logs/hans_eval_bert_ --eval_mods_suffixes $sufs --remove_plains"
      ],
      "metadata": {
        "id": "lUfSA7WPgMqy"
      },
      "execution_count": null,
      "outputs": []
    },
    {
      "cell_type": "markdown",
      "source": [
        "### 2-D interpolations"
      ],
      "metadata": {
        "id": "69LK4URigf-i"
      }
    },
    {
      "cell_type": "code",
      "source": [
        "%%bash\n",
        "cd /content/connectivity_gems/plot/\n",
        "export BASE_DIR=../logs/interpolation_logs/interpol_2d/short_range\n",
        "python3 same_z_scale_plot.py --surface_pkl_files $BASE_DIR/around_peaks/mnli_test/mnli_test_99_8_37_2_loss_surface.pkl\\\n",
        "                                                 $BASE_DIR/around_valleys/mnli_test/mnli_test_44_73_89_2_loss_surface.pkl\\\n",
        "                                                 $BASE_DIR/peak_and_2valleys/mnli_test/mnli_test_99_44_73_2_loss_surface.pkl\\\n",
        "                              --plot_title \"\" --names '(a.) generalized models' '(b.) heuristic models'\\\n",
        "                                                      '(c.) generalized and heuristic models' \\\n",
        "                              --point_names G0 G1 G2 H0 H1 H2 G0 H0 H1 --clip_x -0.5 1.5 --clip_y -1.0 1.20 --clip_z 0 0.65"
      ],
      "metadata": {
        "id": "xbUUOEJcgZGB"
      },
      "execution_count": null,
      "outputs": []
    },
    {
      "cell_type": "markdown",
      "source": [
        "### Heatmaps and Scatter Plots"
      ],
      "metadata": {
        "id": "JwdL4oFVgiWP"
      }
    },
    {
      "cell_type": "code",
      "source": [
        "%%bash\n",
        "cd /content/connectivity_gems/plot/\n",
        "sufs=\"\";for i in {0..99}; do sufs=\"$sufs $i\";done;\n",
        "python3 interpol_heatmap.py --order_by perf --eval_metric f1 \\\n",
        "                    --interpol_log_dir ../logs/interpolation_logs/qqp_interpol@34110steps/ \\\n",
        "                    --eval_mods_prefix ../logs/paws_eval@34110steps_bert_ft_qqp-\\\n",
        "                    --eval_mods_suffixes $sufs --emb_acc_corr --ticks accs"
      ],
      "metadata": {
        "id": "p1lwK3UHgluc"
      },
      "execution_count": null,
      "outputs": []
    },
    {
      "cell_type": "markdown",
      "source": [
        "### Training Dynamics"
      ],
      "metadata": {
        "id": "7McUMoymgy-N"
      }
    },
    {
      "cell_type": "code",
      "source": [
        "%%bash\n",
        "cd /content/connectivity_gems/plot/\n",
        "sufs=\"\";for i in {0..99}; do sufs=\"$sufs $i\";done;\n",
        "export BASE_DIR=../logs/interpolation_logs/qqp_interpol@\n",
        "python3 dynamics.py --eval_metric f1 --interpol_log_dirs ${BASE_DIR}15000steps/ ${BASE_DIR}25000steps ${BASE_DIR}34110steps \\\n",
        "                    --eval_mods_prefixes ../logs/paws_eval@34110steps_bert_ft_qqp- ../logs/paws_eval@34110steps_bert_ft_qqp-\\\n",
        "                    ../logs/paws_eval@34110steps_bert_ft_qqp- --eval_mods_suffixes $sufs"
      ],
      "metadata": {
        "id": "yK9JuZVNgyvI"
      },
      "execution_count": null,
      "outputs": []
    },
    {
      "cell_type": "code",
      "source": [
        ""
      ],
      "metadata": {
        "id": "WhDK0GMkpa1M"
      },
      "execution_count": null,
      "outputs": []
    }
  ]
}